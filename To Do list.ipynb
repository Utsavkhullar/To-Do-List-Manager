{
 "cells": [
  {
   "cell_type": "code",
   "execution_count": 11,
   "id": "b7c57c7c-4e02-4c71-a329-0c680edc78b0",
   "metadata": {
    "tags": []
   },
   "outputs": [
    {
     "name": "stdout",
     "output_type": "stream",
     "text": [
      "\n",
      "Options:\n",
      "1. Display Tasks\n",
      "2. Add Task\n",
      "3. Complete Task\n",
      "4. Remove Task\n",
      "5. Exit\n"
     ]
    },
    {
     "name": "stdin",
     "output_type": "stream",
     "text": [
      "Enter your choice (1-5):  2\n",
      "Enter the task:  Lunch Party\n"
     ]
    },
    {
     "name": "stdout",
     "output_type": "stream",
     "text": [
      "Task 'Lunch Party' added to the to-do list.\n",
      "\n",
      "Options:\n",
      "1. Display Tasks\n",
      "2. Add Task\n",
      "3. Complete Task\n",
      "4. Remove Task\n",
      "5. Exit\n"
     ]
    },
    {
     "name": "stdin",
     "output_type": "stream",
     "text": [
      "Enter your choice (1-5):  2\n",
      "Enter the task:  Meeting with the friend\n"
     ]
    },
    {
     "name": "stdout",
     "output_type": "stream",
     "text": [
      "Task 'Meeting with the friend' added to the to-do list.\n",
      "\n",
      "Options:\n",
      "1. Display Tasks\n",
      "2. Add Task\n",
      "3. Complete Task\n",
      "4. Remove Task\n",
      "5. Exit\n"
     ]
    },
    {
     "name": "stdin",
     "output_type": "stream",
     "text": [
      "Enter your choice (1-5):  2\n",
      "Enter the task:  Have a call with the client\n"
     ]
    },
    {
     "name": "stdout",
     "output_type": "stream",
     "text": [
      "Task 'Have a call with the client' added to the to-do list.\n",
      "\n",
      "Options:\n",
      "1. Display Tasks\n",
      "2. Add Task\n",
      "3. Complete Task\n",
      "4. Remove Task\n",
      "5. Exit\n"
     ]
    },
    {
     "name": "stdin",
     "output_type": "stream",
     "text": [
      "Enter your choice (1-5):  1\n"
     ]
    },
    {
     "name": "stdout",
     "output_type": "stream",
     "text": [
      "Your To-Do List:\n",
      "1. Lunch Party\n",
      "2. Meeting with the friend\n",
      "3. Have a call with the client\n",
      "\n",
      "Options:\n",
      "1. Display Tasks\n",
      "2. Add Task\n",
      "3. Complete Task\n",
      "4. Remove Task\n",
      "5. Exit\n"
     ]
    },
    {
     "name": "stdin",
     "output_type": "stream",
     "text": [
      "Enter your choice (1-5):  3\n"
     ]
    },
    {
     "name": "stdout",
     "output_type": "stream",
     "text": [
      "Your To-Do List:\n",
      "1. Lunch Party\n",
      "2. Meeting with the friend\n",
      "3. Have a call with the client\n"
     ]
    },
    {
     "name": "stdin",
     "output_type": "stream",
     "text": [
      "Enter the index of the completed task:  2\n"
     ]
    },
    {
     "name": "stdout",
     "output_type": "stream",
     "text": [
      "Task 'Meeting with the friend' marked as completed.\n",
      "\n",
      "Options:\n",
      "1. Display Tasks\n",
      "2. Add Task\n",
      "3. Complete Task\n",
      "4. Remove Task\n",
      "5. Exit\n"
     ]
    },
    {
     "name": "stdin",
     "output_type": "stream",
     "text": [
      "Enter your choice (1-5):  4\n"
     ]
    },
    {
     "name": "stdout",
     "output_type": "stream",
     "text": [
      "Your To-Do List:\n",
      "1. Lunch Party\n",
      "2. Have a call with the client\n"
     ]
    },
    {
     "name": "stdin",
     "output_type": "stream",
     "text": [
      "Enter the index of the task to remove:  2\n"
     ]
    },
    {
     "name": "stdout",
     "output_type": "stream",
     "text": [
      "Task 'Have a call with the client' removed from the to-do list.\n",
      "\n",
      "Options:\n",
      "1. Display Tasks\n",
      "2. Add Task\n",
      "3. Complete Task\n",
      "4. Remove Task\n",
      "5. Exit\n"
     ]
    },
    {
     "name": "stdin",
     "output_type": "stream",
     "text": [
      "Enter your choice (1-5):  1\n"
     ]
    },
    {
     "name": "stdout",
     "output_type": "stream",
     "text": [
      "Your To-Do List:\n",
      "1. Lunch Party\n",
      "\n",
      "Options:\n",
      "1. Display Tasks\n",
      "2. Add Task\n",
      "3. Complete Task\n",
      "4. Remove Task\n",
      "5. Exit\n"
     ]
    },
    {
     "name": "stdin",
     "output_type": "stream",
     "text": [
      "Enter your choice (1-5):  3\n"
     ]
    },
    {
     "name": "stdout",
     "output_type": "stream",
     "text": [
      "Your To-Do List:\n",
      "1. Lunch Party\n"
     ]
    },
    {
     "name": "stdin",
     "output_type": "stream",
     "text": [
      "Enter the index of the completed task:  1\n"
     ]
    },
    {
     "name": "stdout",
     "output_type": "stream",
     "text": [
      "Task 'Lunch Party' marked as completed.\n",
      "\n",
      "Options:\n",
      "1. Display Tasks\n",
      "2. Add Task\n",
      "3. Complete Task\n",
      "4. Remove Task\n",
      "5. Exit\n"
     ]
    },
    {
     "name": "stdin",
     "output_type": "stream",
     "text": [
      "Enter your choice (1-5):  5\n"
     ]
    },
    {
     "name": "stdout",
     "output_type": "stream",
     "text": [
      "Exiting the To-Do List Manager. Goodbye!\n"
     ]
    }
   ],
   "source": [
    "# To-Do List Manager\n",
    "\n",
    "# Initialize an empty list to store tasks\n",
    "tasks = []\n",
    "\n",
    "# Function to display the current tasks\n",
    "def display_tasks():\n",
    "    if not tasks:\n",
    "        print(\"No tasks found. Your to-do list is empty.\")\n",
    "    else:\n",
    "        print(\"Your To-Do List:\")\n",
    "        for index, task in enumerate(tasks, start=1):\n",
    "            print(f\"{index}. {task}\")\n",
    "\n",
    "# Function to add a new task to the list\n",
    "def add_task(task):\n",
    "    tasks.append(task)\n",
    "    print(f\"Task '{task}' added to the to-do list.\")\n",
    "\n",
    "# Function to mark a task as completed\n",
    "def complete_task(index):\n",
    "    if 1 <= index <= len(tasks):\n",
    "        completed_task = tasks.pop(index - 1)\n",
    "        print(f\"Task '{completed_task}' marked as completed.\")\n",
    "    else:\n",
    "        print(\"Invalid task index. Please choose a valid task.\")\n",
    "\n",
    "# Function to remove a task from the list\n",
    "def remove_task(index):\n",
    "    if 1 <= index <= len(tasks):\n",
    "        removed_task = tasks.pop(index - 1)\n",
    "        print(f\"Task '{removed_task}' removed from the to-do list.\")\n",
    "    else:\n",
    "        print(\"Invalid task index. Please choose a valid task.\")\n",
    "\n",
    "# Main program loop\n",
    "while True:\n",
    "    print(\"\\nOptions:\")\n",
    "    print(\"1. Display Tasks\")\n",
    "    print(\"2. Add Task\")\n",
    "    print(\"3. Complete Task\")\n",
    "    print(\"4. Remove Task\")\n",
    "    print(\"5. Exit\")\n",
    "\n",
    "    choice = input(\"Enter your choice (1-5): \")\n",
    "\n",
    "    if choice == '1':\n",
    "        display_tasks()\n",
    "    elif choice == '2':\n",
    "        new_task = input(\"Enter the task: \")\n",
    "        add_task(new_task)\n",
    "    elif choice == '3':\n",
    "        display_tasks()\n",
    "        task_index = int(input(\"Enter the index of the completed task: \"))\n",
    "        complete_task(task_index)\n",
    "    elif choice == '4':\n",
    "        display_tasks()\n",
    "        task_index = int(input(\"Enter the index of the task to remove: \"))\n",
    "        remove_task(task_index)\n",
    "    elif choice == '5':\n",
    "        print(\"Exiting the To-Do List Manager. Goodbye!\")\n",
    "        break\n",
    "    else:\n",
    "        print(\"Invalid choice. Please enter a number between 1 and 5.\")"
   ]
  },
  {
   "cell_type": "markdown",
   "id": "17fc004c-4a7e-4478-92f1-030134a610a7",
   "metadata": {},
   "source": []
  }
 ],
 "metadata": {
  "kernelspec": {
   "display_name": "Python 3 (ipykernel)",
   "language": "python",
   "name": "python3"
  },
  "language_info": {
   "codemirror_mode": {
    "name": "ipython",
    "version": 3
   },
   "file_extension": ".py",
   "mimetype": "text/x-python",
   "name": "python",
   "nbconvert_exporter": "python",
   "pygments_lexer": "ipython3",
   "version": "3.11.5"
  }
 },
 "nbformat": 4,
 "nbformat_minor": 5
}
